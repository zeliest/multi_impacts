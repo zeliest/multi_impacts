{
 "cells": [
  {
   "cell_type": "markdown",
   "id": "bbad8eb7",
   "metadata": {
    "ExecuteTime": {
     "end_time": "2021-12-07T09:25:51.217571Z",
     "start_time": "2021-12-07T09:25:51.214609Z"
    }
   },
   "source": [
    "# Multi-impact data - TC"
   ]
  },
  {
   "cell_type": "code",
   "execution_count": 11,
   "id": "982e6ec8",
   "metadata": {
    "ExecuteTime": {
     "end_time": "2022-01-25T14:43:42.264328Z",
     "start_time": "2022-01-25T14:43:42.259792Z"
    }
   },
   "outputs": [],
   "source": [
    "cnt_list = ['DEU', 'VNM', 'COL', 'COG', 'USA', 'TWN']\n",
    "YEAR = 2020"
   ]
  },
  {
   "cell_type": "code",
   "execution_count": null,
   "id": "27c8911a",
   "metadata": {
    "ExecuteTime": {
     "end_time": "2021-12-07T10:26:37.227179Z",
     "start_time": "2021-12-07T10:08:46.388096Z"
    }
   },
   "outputs": [],
   "source": [
    "#from climada.entity import LitPop\n",
    "#exp_dict = {}\n",
    "#for cnt in cnt_list[]:\n",
    "#    exp_dict[cnt] = LitPop.from_countries(cnt, reference_year=YEAR)\n",
    "#    print(\"%s done\" %cnt)"
   ]
  },
  {
   "cell_type": "code",
   "execution_count": 86,
   "id": "1254c630",
   "metadata": {
    "ExecuteTime": {
     "end_time": "2021-12-07T15:09:54.621407Z",
     "start_time": "2021-12-07T15:05:09.690157Z"
    }
   },
   "outputs": [
    {
     "name": "stderr",
     "output_type": "stream",
     "text": [
      "/Users/ckropf/opt/anaconda3/envs/climada_310/lib/python3.8/site-packages/IPython/core/interactiveshell.py:3444: PerformanceWarning: \n",
      "your performance may suffer as PyTables will pickle object types that it cannot\n",
      "map directly to c-types [inferred_type->mixed,key->block2_values] [items->Index(['geometry'], dtype='object')]\n",
      "\n",
      "  exec(code_obj, self.user_global_ns, self.user_ns)\n"
     ]
    }
   ],
   "source": [
    "#for cnt, exp in exp_dict.items():\n",
    "#    exp.write_hdf5('exp_' + cnt + '.hdf5')"
   ]
  },
  {
   "cell_type": "code",
   "execution_count": 12,
   "id": "2350bd99",
   "metadata": {
    "ExecuteTime": {
     "end_time": "2022-01-25T14:44:10.745817Z",
     "start_time": "2022-01-25T14:43:44.421889Z"
    }
   },
   "outputs": [
    {
     "name": "stdout",
     "output_type": "stream",
     "text": [
      "DEU done\n",
      "VNM done\n",
      "COL done\n",
      "COG done\n",
      "USA done\n",
      "TWN done\n"
     ]
    }
   ],
   "source": [
    "from climada.util.api_client import Client\n",
    "client = Client()\n",
    "exp_dict = {}\n",
    "for cnt in cnt_list:\n",
    "    exp_dict[cnt] = client.get_litpop_default(cnt)\n",
    "    print(\"%s done\" %cnt)"
   ]
  },
  {
   "cell_type": "code",
   "execution_count": 33,
   "id": "b6e3c5b0",
   "metadata": {
    "ExecuteTime": {
     "end_time": "2022-01-25T14:47:58.699317Z",
     "start_time": "2022-01-25T14:47:58.676888Z"
    }
   },
   "outputs": [],
   "source": [
    "from climada.entity.impact_funcs.trop_cyclone import ImpfSetTropCyclone\n",
    "impf_TC = ImpfSetTropCyclone.from_calibrated_regional_ImpfSet()\n",
    "def get_id(cnt):\n",
    "    for basin, iso_list in impf_TC.get_countries_per_region()[3].items():\n",
    "        for iso in iso_list:\n",
    "            if iso == cnt:\n",
    "                return basin, impf_TC.get_countries_per_region()[1][basin]"
   ]
  },
  {
   "cell_type": "code",
   "execution_count": 34,
   "id": "e2f59cff",
   "metadata": {
    "ExecuteTime": {
     "end_time": "2022-01-25T14:47:59.633272Z",
     "start_time": "2022-01-25T14:47:59.586157Z"
    }
   },
   "outputs": [],
   "source": [
    "for cnt, exp in exp_dict.items():\n",
    "    impf_id = get_id(cnt)[1]\n",
    "    exp.gdf['impf_TC'] = impf_id"
   ]
  },
  {
   "cell_type": "code",
   "execution_count": 35,
   "id": "1713949a",
   "metadata": {
    "ExecuteTime": {
     "end_time": "2022-01-25T14:48:18.546950Z",
     "start_time": "2022-01-25T14:48:01.597351Z"
    }
   },
   "outputs": [],
   "source": [
    "tc_dataset_infos = client.list_dataset_infos(data_type='tropical_cyclone')"
   ]
  },
  {
   "cell_type": "code",
   "execution_count": 20,
   "id": "2890475f",
   "metadata": {
    "ExecuteTime": {
     "end_time": "2022-01-24T15:44:40.491648Z",
     "start_time": "2022-01-24T15:44:40.479714Z"
    }
   },
   "outputs": [
    {
     "data": {
      "text/plain": [
       "{'climate_scenario': ['historical'],\n",
       " 'tracks_year_range': ['1980_2020'],\n",
       " 'nb_synth_tracks': ['10'],\n",
       " 'res_arcsec': ['150'],\n",
       " 'country_name': ['Viet Nam'],\n",
       " 'country_iso3alpha': ['VNM'],\n",
       " 'spatial_coverage': ['country']}"
      ]
     },
     "execution_count": 20,
     "metadata": {},
     "output_type": "execute_result"
    }
   ],
   "source": [
    "client.get_property_values(tc_dataset_infos, known_property_values = {'country_iso3alpha': 'VNM', 'climate_scenario':'historical', 'nb_synth_tracks': '10'})"
   ]
  },
  {
   "cell_type": "code",
   "execution_count": 36,
   "id": "c71165ac",
   "metadata": {
    "ExecuteTime": {
     "end_time": "2022-01-25T14:49:04.037519Z",
     "start_time": "2022-01-25T14:48:18.549012Z"
    }
   },
   "outputs": [
    {
     "name": "stdout",
     "output_type": "stream",
     "text": [
      "DEU\n",
      "VNM\n",
      "COL\n",
      "COG\n",
      "USA\n",
      "TWN\n"
     ]
    }
   ],
   "source": [
    "from climada.util.api_client import Client\n",
    "n_tracks = '10'\n",
    "client = Client()\n",
    "tc_dict = {}\n",
    "for cnt in cnt_list:\n",
    "    print(cnt)\n",
    "    tc_dict[cnt] = client.get_hazard('tropical_cyclone', properties={'country_iso3alpha': cnt, 'climate_scenario':'historical',  'nb_synth_tracks':n_tracks})"
   ]
  },
  {
   "cell_type": "code",
   "execution_count": 37,
   "id": "335f60ce",
   "metadata": {
    "ExecuteTime": {
     "end_time": "2022-01-25T14:49:05.444115Z",
     "start_time": "2022-01-25T14:49:04.039654Z"
    }
   },
   "outputs": [
    {
     "name": "stdout",
     "output_type": "stream",
     "text": [
      "2022-01-25 15:49:04,219 - climada.util.coordinates - WARNING - Distance to closest centroid is greater than 100km for 4000 coordinates.\n",
      "2022-01-25 15:49:04,245 - climada.util.coordinates - WARNING - Distance to closest centroid is greater than 100km for 7779 coordinates.\n",
      "2022-01-25 15:49:05,387 - climada.util.coordinates - WARNING - Distance to closest centroid is greater than 100km for 129147 coordinates.\n"
     ]
    }
   ],
   "source": [
    "for cnt in cnt_list:\n",
    "    exp_dict[cnt].assign_centroids(tc_dict[cnt])"
   ]
  },
  {
   "cell_type": "code",
   "execution_count": 38,
   "id": "f86d4ce3",
   "metadata": {
    "ExecuteTime": {
     "end_time": "2022-01-25T14:49:05.461460Z",
     "start_time": "2022-01-25T14:49:05.446588Z"
    }
   },
   "outputs": [],
   "source": [
    "from climada.engine import Impact"
   ]
  },
  {
   "cell_type": "code",
   "execution_count": 39,
   "id": "b7bfd228",
   "metadata": {
    "ExecuteTime": {
     "end_time": "2022-01-25T14:49:10.965815Z",
     "start_time": "2022-01-25T14:49:05.462874Z"
    }
   },
   "outputs": [
    {
     "name": "stdout",
     "output_type": "stream",
     "text": [
      "DEU\n",
      "VNM\n",
      "COL\n",
      "COG\n",
      "USA\n"
     ]
    }
   ],
   "source": [
    "for cnt in cnt_list[:-1]:\n",
    "    imp = Impact()\n",
    "    imp.calc(exp_dict[cnt], impf_TC, tc_dict[cnt], save_mat=True)\n",
    "    imp.write_sparse_csr('imp_mat_' + cnt + '.npz')\n",
    "    imp.write_csv('imp_' + cnt + '.csv')\n",
    "    print(cnt)"
   ]
  },
  {
   "cell_type": "code",
   "execution_count": 40,
   "id": "7f651a52",
   "metadata": {
    "ExecuteTime": {
     "end_time": "2022-01-25T14:49:15.177797Z",
     "start_time": "2022-01-25T14:49:10.967747Z"
    }
   },
   "outputs": [],
   "source": [
    "cnt = 'USA'\n",
    "imp = Impact()\n",
    "imp.calc(exp_dict[cnt], impf_TC, tc_dict[cnt], save_mat=True)\n",
    "imp.write_sparse_csr('imp_mat_' + cnt + '.npz')\n",
    "imp.write_csv('imp_' + cnt + '.csv')"
   ]
  },
  {
   "cell_type": "code",
   "execution_count": 41,
   "id": "ebb352d2",
   "metadata": {
    "ExecuteTime": {
     "end_time": "2022-01-25T14:49:15.184255Z",
     "start_time": "2022-01-25T14:49:15.179025Z"
    }
   },
   "outputs": [
    {
     "data": {
      "text/plain": [
       "array([0.00000000e+00, 2.24908122e-14, 8.17969851e-04, ...,\n",
       "       2.04759648e+11, 3.03765847e+11, 5.99341086e+11])"
      ]
     },
     "execution_count": 41,
     "metadata": {},
     "output_type": "execute_result"
    }
   ],
   "source": [
    "import numpy as np\n",
    "np.unique(imp.at_event)"
   ]
  },
  {
   "cell_type": "code",
   "execution_count": 42,
   "id": "df664ac4",
   "metadata": {
    "ExecuteTime": {
     "end_time": "2022-01-25T14:49:15.790438Z",
     "start_time": "2022-01-25T14:49:15.186251Z"
    }
   },
   "outputs": [],
   "source": [
    "cnt = 'TWN'\n",
    "imp = Impact()\n",
    "imp.calc(exp_dict[cnt], impf_TC, tc_dict[cnt], save_mat=True)\n",
    "imp.write_sparse_csr('imp_mat_' + cnt + '.npz')\n",
    "imp.write_csv('imp_' + cnt + '.csv')"
   ]
  }
 ],
 "metadata": {
  "hide_input": false,
  "kernelspec": {
   "display_name": "Python 3 (ipykernel)",
   "language": "python",
   "name": "python3"
  },
  "language_info": {
   "codemirror_mode": {
    "name": "ipython",
    "version": 3
   },
   "file_extension": ".py",
   "mimetype": "text/x-python",
   "name": "python",
   "nbconvert_exporter": "python",
   "pygments_lexer": "ipython3",
   "version": "3.8.10"
  },
  "latex_envs": {
   "LaTeX_envs_menu_present": true,
   "autoclose": false,
   "autocomplete": true,
   "bibliofile": "biblio.bib",
   "cite_by": "apalike",
   "current_citInitial": 1,
   "eqLabelWithNumbers": true,
   "eqNumInitial": 1,
   "hotkeys": {
    "equation": "Ctrl-E",
    "itemize": "Ctrl-I"
   },
   "labels_anchors": false,
   "latex_user_defs": false,
   "report_style_numbering": false,
   "user_envs_cfg": false
  },
  "toc": {
   "base_numbering": 1,
   "nav_menu": {},
   "number_sections": true,
   "sideBar": true,
   "skip_h1_title": false,
   "title_cell": "Table of Contents",
   "title_sidebar": "Contents",
   "toc_cell": false,
   "toc_position": {},
   "toc_section_display": true,
   "toc_window_display": false
  }
 },
 "nbformat": 4,
 "nbformat_minor": 5
}
