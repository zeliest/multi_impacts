{
 "cells": [
  {
   "cell_type": "code",
   "execution_count": 1,
   "id": "13ed5b64",
   "metadata": {},
   "outputs": [],
   "source": [
    "from climada.util.api_client import Client\n",
    "from climada.util.constants import RIVER_FLOOD_REGIONS_CSV\n",
    "from climada_petals.entity.impact_funcs.river_flood import ImpfRiverFlood,flood_imp_func_set\n",
    "import pandas as pd\n",
    "from climada.engine import Impact\n",
    "from climada.hazard import Hazard\n"
   ]
  },
  {
   "cell_type": "code",
   "execution_count": 2,
   "id": "bd6937ff",
   "metadata": {},
   "outputs": [],
   "source": [
    "def impact_calc_flood(country, regions_df, impf_set, scenario, year_range):\n",
    "    client = Client()\n",
    "    rf_hazard = client.get_hazard('river_flood', properties={'country_iso3alpha': country, 'climate_scenario': scenario, 'year_range':year_range})\n",
    "    litpop = client.get_litpop_default(country=country)\n",
    "    litpop.gdf['impf_RF'] = int(regions_df[regions_df['ISO']== country]['impf_RF'])\n",
    "    litpop.gdf = litpop.gdf.drop(columns=['impf_'])\n",
    "    #litpop.gdf = litpop.gdf[(litpop.gdf['latitude']<60)&(litpop.gdf['latitude']>-60)]\n",
    "    rf_impact = Impact()\n",
    "    rf_impact.calc(litpop,impf_set,rf_hazard, save_mat=True)\n",
    "    return rf_impact\n"
   ]
  },
  {
   "cell_type": "code",
   "execution_count": null,
   "id": "36e242d0",
   "metadata": {},
   "outputs": [],
   "source": []
  },
  {
   "cell_type": "code",
   "execution_count": 3,
   "id": "e74031c1",
   "metadata": {
    "scrolled": true
   },
   "outputs": [
    {
     "name": "stdout",
     "output_type": "stream",
     "text": [
      "2022-02-17 11:14:51,502 - climada.util.coordinates - WARNING - Distance to closest centroid is greater than 100km for 1 coordinates.\n",
      "2022-02-17 11:15:09,124 - climada.util.coordinates - WARNING - Distance to closest centroid is greater than 100km for 129752 coordinates.\n"
     ]
    }
   ],
   "source": [
    "impf_set = flood_imp_func_set()\n",
    "year_range = '1980_2000'\n",
    "scenario = 'historical'\n",
    "client = Client()\n",
    "regions_df = pd.read_csv(RIVER_FLOOD_REGIONS_CSV)\n",
    "countries = ['TWN', 'DEU', 'VNM', 'COL', 'USA']\n",
    "impact_dict_hist = {country: impact_calc_flood(country,regions_df, impf_set, scenario, year_range) for country in countries}\n",
    "\n"
   ]
  },
  {
   "cell_type": "code",
   "execution_count": 11,
   "id": "cc6c67bd",
   "metadata": {},
   "outputs": [],
   "source": [
    "rf_hazard = client.get_hazard('river_flood', properties={'country_iso3alpha': 'DEU', 'climate_scenario': 'rcp85', 'year_range':'2030_2050'})"
   ]
  },
  {
   "cell_type": "code",
   "execution_count": null,
   "id": "21c70fe6",
   "metadata": {
    "scrolled": true
   },
   "outputs": [],
   "source": [
    "impf_set = flood_imp_func_set()\n",
    "year_range = '2010_2030'\n",
    "scenario = 'rcp85'\n",
    "client = Client()\n",
    "regions_df = pd.read_csv(RIVER_FLOOD_REGIONS_CSV)\n",
    "countries = ['TWN', 'DEU', 'VNM', 'COL', 'USA']\n",
    "impact_dict_rcp26 = {country: impact_calc_flood(country,regions_df, impf_set, scenario, year_range) for country in countries}\n",
    "\n",
    "\n"
   ]
  },
  {
   "cell_type": "code",
   "execution_count": 46,
   "id": "8d853b24",
   "metadata": {},
   "outputs": [],
   "source": [
    "for country in countries:\n",
    "    impact_dict_hist[country].write_sparse_csr(\"\".join([ '/Users/szelie/OneDrive - ETH Zurich/20211208_Multi-Impact_ZelieCarmen/river_flood_impact_150arcsec_historical_1980_2000_\",country]))\n",
    "    "
   ]
  },
  {
   "cell_type": "code",
   "execution_count": 47,
   "id": "f6a9c771",
   "metadata": {},
   "outputs": [],
   "source": [
    "for country in countries:\n",
    "    impact_dict_hist[country].write_csv(\"\".join([\"/Users/szelie/data/20211208_Multi-Impact_ZelieCarmen/river_flood_impact_150arcsec_historical_1980_2000_\",country, '.csv']))\n",
    "    "
   ]
  }
 ],
 "metadata": {
  "kernelspec": {
   "display_name": "Python 3 (ipykernel)",
   "language": "python",
   "name": "python3"
  },
  "language_info": {
   "codemirror_mode": {
    "name": "ipython",
    "version": 3
   },
   "file_extension": ".py",
   "mimetype": "text/x-python",
   "name": "python",
   "nbconvert_exporter": "python",
   "pygments_lexer": "ipython3",
   "version": "3.8.10"
  }
 },
 "nbformat": 4,
 "nbformat_minor": 5
}
