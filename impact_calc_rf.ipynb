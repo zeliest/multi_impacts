{
 "cells": [
  {
   "cell_type": "code",
   "execution_count": 39,
   "id": "13ed5b64",
   "metadata": {},
   "outputs": [],
   "source": [
    "from climada.util.api_client import Client\n",
    "from climada.util.constants import RIVER_FLOOD_REGIONS_CSV\n",
    "from climada_petals.entity.impact_funcs.river_flood import ImpfRiverFlood,flood_imp_func_set\n",
    "import pandas as pd\n",
    "from climada.engine import Impact\n",
    "from climada.hazard import Hazard\n"
   ]
  },
  {
   "cell_type": "code",
   "execution_count": 44,
   "id": "bd6937ff",
   "metadata": {},
   "outputs": [],
   "source": [
    "def impact_calc_flood(country, regions_df, impf_set, scenario, year_range):\n",
    "    client = Client()\n",
    "    rf_hazard = client.get_hazard('river_flood', properties={'country_iso3alpha': country, 'climate_scenario': scenario, 'year_range':year_range})\n",
    "    litpop = client.get_litpop_default(country=country)\n",
    "    litpop.gdf['impf_RF'] = int(regions_df[regions_df['ISO']== country]['impf_RF'])\n",
    "    litpop.gdf = litpop.gdf.drop(columns=['impf_'])\n",
    "    #litpop.gdf = litpop.gdf[(litpop.gdf['latitude']<60)&(litpop.gdf['latitude']>-60)]\n",
    "    rf_impact = Impact()\n",
    "    rf_impact.calc(litpop,impf_set,rf_hazard, save_mat=True)\n",
    "    return rf_impact\n"
   ]
  },
  {
   "cell_type": "code",
   "execution_count": 45,
   "id": "e74031c1",
   "metadata": {
    "scrolled": true
   },
   "outputs": [
    {
     "name": "stdout",
     "output_type": "stream",
     "text": [
      "2022-02-03 07:45:58,810 - climada.util.coordinates - WARNING - Distance to closest centroid is greater than 100km for 129752 coordinates.\n"
     ]
    }
   ],
   "source": [
    "impf_set = flood_imp_func_set()\n",
    "year_range = '1980_2000'\n",
    "scenario = 'historical'\n",
    "client = Client()\n",
    "regions_df = pd.read_csv(RIVER_FLOOD_REGIONS_CSV)\n",
    "countries = ['USA']\n",
    "impact_dict_hist = {country: impact_calc_flood(country,regions_df, impf_set, scenario, year_range) for country in countries}\n",
    "\n"
   ]
  },
  {
   "cell_type": "code",
   "execution_count": 46,
   "id": "8d853b24",
   "metadata": {},
   "outputs": [],
   "source": [
    "for country in countries:\n",
    "    impact_dict_hist[country].write_sparse_csr(\"\".join([\"/Users/szelie/data/20211208_Multi-Impact_ZelieCarmen/river_flood_impact_150arcsec_historical_1980_2000_\",country]))\n",
    "    "
   ]
  },
  {
   "cell_type": "code",
   "execution_count": 47,
   "id": "f6a9c771",
   "metadata": {},
   "outputs": [],
   "source": [
    "for country in countries:\n",
    "    impact_dict_hist[country].write_csv(\"\".join([\"/Users/szelie/data/20211208_Multi-Impact_ZelieCarmen/river_flood_impact_150arcsec_historical_1980_2000_\",country, '.csv']))\n",
    "    "
   ]
  }
 ],
 "metadata": {
  "kernelspec": {
   "display_name": "Python 3 (ipykernel)",
   "language": "python",
   "name": "python3"
  },
  "language_info": {
   "codemirror_mode": {
    "name": "ipython",
    "version": 3
   },
   "file_extension": ".py",
   "mimetype": "text/x-python",
   "name": "python",
   "nbconvert_exporter": "python",
   "pygments_lexer": "ipython3",
   "version": "3.8.10"
  }
 },
 "nbformat": 4,
 "nbformat_minor": 5
}
