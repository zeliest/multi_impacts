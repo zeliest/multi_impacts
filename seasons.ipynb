{
 "cells": [
  {
   "cell_type": "code",
   "execution_count": null,
   "id": "8ebdc505",
   "metadata": {},
   "outputs": [],
   "source": [
    "from climada.util.api_client import Client\n",
    "from climada.util.constants import RIVER_FLOOD_REGIONS_CSV\n",
    "from climada_petals.entity.impact_funcs.river_flood import ImpfRiverFlood,flood_imp_func_set\n",
    "import pandas as pd\n",
    "from climada.engine import Impact\n",
    "from climada.hazard import Hazard\n",
    "import numpy as np\n",
    "from climada.util import yearsets\n",
    "import os\n",
    "import matplotlib.pyplot as plt\n",
    "import pandas as pd\n",
    "import scipy as sp\n",
    "from climada.util.multi_impacts import *\n",
    "\n",
    "countries = ['TWN', 'DEU', 'VNM', 'COL', 'USA','ITA','AUS', 'HTI', 'MDG']\n",
    "#Define which files are which, would be good to have standardize names\n",
    "impact_csvs = {}\n",
    "impact_mats = {}\n",
    "impact_csvs_crops = {}\n",
    "impact_mats_crops = {}\n",
    "data_dir = '/Users/szelie/OneDrive - ETH Zurich/20211208_Multi-Impact_ZelieCarmen'\n",
    "for country in countries:\n",
    "    impact_csvs[country] = {}\n",
    "    impact_mats[country] = {}\n",
    "    impact_csvs_crops[country] = {}\n",
    "    impact_mats_crops[country] = {}\n",
    "    impact_csvs[country]['RF'] = os.path.join(data_dir, \"\".join(['RF_impact_mat/river_flood_impact_150arcsec_historical_1980_2000_',country,'.csv']))\n",
    "    impact_mats[country]['RF'] = os.path.join(data_dir, \"\".join(['RF_impact_mat/river_flood_impact_150arcsec_historical_1980_2000_',country,'.npz']))\n",
    "\n",
    "\n",
    "    impact_csvs[country]['TC']  = os.path.join(data_dir, \"\".join(['TC_impact_mat/imp_',country,'.csv']))\n",
    "    impact_mats[country]['TC']= os.path.join(data_dir, \"\".join(['TC_impact_mat/imp_mat_',country,'.npz']))\n",
    "   \n",
    "    #impact_csvs[country]['WF'] = os.path.join(data_dir, \"\".join(['WF_impact/historic/imp_wf_',country,'_2001_2020.csv']))\n",
    "    #impact_mats[country]['WF'] = os.path.join(data_dir, \"\".join(['WF_impact/historic/imp_mat_wf_',country,'_2001_2020.npz']))\n",
    "    \n",
    "    #crops\n",
    "     #crops\n",
    "    for crop in ['mai','ric','soy','whe']:\n",
    "        impact_csvs_crops[country][crop] = os.path.join(data_dir, \"\".join(['CP_impact/ISIMIP2a/Impact_save_mat/imp_',country,'_',crop,'_nobc_tonnes.csv']))\n",
    "        impact_mats_crops[country][crop] = os.path.join(data_dir, \"\".join(['CP_impact/ISIMIP2a/Impact_save_mat/imp_mat_',country,'_',crop,'_nobc_tonnes.npz']))\n",
    "\n",
    "    #landslide"
   ]
  },
  {
   "cell_type": "code",
   "execution_count": 3,
   "id": "e1d27d81",
   "metadata": {},
   "outputs": [
    {
     "data": {
      "text/plain": [
       "'https://www.britannica.com/science/tropical-cyclone/Location-and-patterns-of-tropical-cyclones'"
      ]
     },
     "execution_count": 3,
     "metadata": {},
     "output_type": "execute_result"
    }
   ],
   "source": [
    "\"https://www.britannica.com/science/tropical-cyclone/Location-and-patterns-of-tropical-cyclones\""
   ]
  },
  {
   "cell_type": "code",
   "execution_count": null,
   "id": "0f1637ad",
   "metadata": {},
   "outputs": [],
   "source": []
  }
 ],
 "metadata": {
  "kernelspec": {
   "display_name": "Python 3 (ipykernel)",
   "language": "python",
   "name": "python3"
  },
  "language_info": {
   "codemirror_mode": {
    "name": "ipython",
    "version": 3
   },
   "file_extension": ".py",
   "mimetype": "text/x-python",
   "name": "python",
   "nbconvert_exporter": "python",
   "pygments_lexer": "ipython3",
   "version": "3.8.13"
  }
 },
 "nbformat": 4,
 "nbformat_minor": 5
}
