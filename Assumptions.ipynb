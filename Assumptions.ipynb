{
 "cells": [
  {
   "cell_type": "code",
   "execution_count": null,
   "id": "4f4d607d",
   "metadata": {},
   "outputs": [],
   "source": []
  },
  {
   "cell_type": "code",
   "execution_count": 1,
   "id": "82df9247",
   "metadata": {},
   "outputs": [],
   "source": [
    "from climada.util.api_client import Client\n",
    "from climada.util.constants import RIVER_FLOOD_REGIONS_CSV\n",
    "from climada_petals.entity.impact_funcs.river_flood import ImpfRiverFlood,flood_imp_func_set\n",
    "import pandas as pd\n",
    "from climada.engine import Impact\n",
    "from climada.hazard import Hazard\n",
    "import numpy as np\n",
    "from climada.util import yearsets\n",
    "import os\n",
    "import matplotlib.pyplot as plt\n",
    "import pandas as pd\n",
    "import scipy as sp\n",
    "\n",
    "\n",
    "countries = ['TWN', 'DEU', 'VNM', 'COL', 'USA']\n",
    "#Define which files are which, would be good to have standardize names\n",
    "impact_csvs = {}\n",
    "impact_mats = {}\n",
    "impact_csvs_crops = {}\n",
    "impact_mats_crops = {}\n",
    "data_dir = '/Users/szelie/OneDrive - ETH Zurich/20211208_Multi-Impact_ZelieCarmen'\n",
    "for country in countries:\n",
    "    impact_csvs[country] = {}\n",
    "    impact_mats[country] = {}\n",
    "    impact_csvs_crops[country] = {}\n",
    "    impact_mats_crops[country] = {}\n",
    "    impact_csvs[country]['RF'] = os.path.join(data_dir, \"\".join(['river_flood_impact_150arcsec_historical_1980_2000_',country,'.csv']))\n",
    "    impact_mats[country]['RF'] = os.path.join(data_dir, \"\".join(['river_flood_impact_150arcsec_historical_1980_2000_',country,'.npz']))\n",
    "\n",
    "\n",
    "    impact_csvs[country]['TC']  = os.path.join(data_dir, \"\".join(['TC_impact_mat/imp_',country,'.csv']))\n",
    "    impact_mats[country]['TC']= os.path.join(data_dir, \"\".join(['TC_impact_mat/imp_mat_',country,'.npz']))\n",
    "   \n",
    "    impact_csvs[country]['WF'] = os.path.join(data_dir, \"\".join(['WF_impact/imp_WF_',country,'.csv']))\n",
    "    impact_mats[country]['WF'] = os.path.join(data_dir, \"\".join(['WF_impact/imp_mat_WF_',country,'.npz']))\n",
    "    \n",
    "    #crops\n",
    "    for crop in ['mai','ric','soy','whe']:\n",
    "        impact_csvs_crops[country][crop] = os.path.join(data_dir, \"\".join(['CP_impact/imp_',country,'_',crop,'_historical.csv']))\n",
    "        impact_mats_crops[country][crop] = os.path.join(data_dir, \"\".join(['CP_impact/imp_mat_',country,'_',crop,'_historical.npz']))\n",
    "\n",
    "    #landslide\n",
    "    "
   ]
  },
  {
   "cell_type": "code",
   "execution_count": 450,
   "id": "4b79ceae",
   "metadata": {},
   "outputs": [],
   "source": [
    "#sample events per year\n",
    "import copy\n",
    "\n",
    "\n",
    "def downsample_raster(raster_high, res_low, res_high, shape_low):\n",
    "    \"\"\"\n",
    "    Downsamples a raster to a given lower resolutin by averaging over\n",
    "    a certain area of grid cells.\n",
    "    Parameters\n",
    "    ----------\n",
    "    raster_high : np.array\n",
    "        Original raster with the high resolution\n",
    "    res_low : float\n",
    "        Resolution of the downsampled raster\n",
    "    bounds : tuple\n",
    "        (xmin, ymin, xmax, ymax)\n",
    "    transform : rasterio.Affine\n",
    "        Affine transformation defining the input raster data.\n",
    "    shape_low : tuple, optional\n",
    "        Shape of output with the lower resolutin. Default: Shape matching\n",
    "        the given resolution and the bounds.\n",
    "    Returns\n",
    "    -------\n",
    "    raster_low : np.array\n",
    "        Output raster with the low resolution\n",
    "    \"\"\"\n",
    "    if res_high[0] > res_low[0] or res_high[1] > res_low[1]:\n",
    "        raise ValueError('Low resolution is higher than high resolution: %s < %s.'\n",
    "                             % (res_low, res_high))\n",
    "\n",
    "    stencil_x = int(np.floor(res_low[1]/res_high[1]))\n",
    "    stencil_y = int(np.floor(res_low[0]/res_high[0]))\n",
    "    \n",
    "    raster_low = np.zeros(shape_low)\n",
    "\n",
    "    jump_x = stencil_x\n",
    "    jump_y = stencil_y\n",
    "\n",
    "    # to start not in the upper left conrner -> more in the middle\n",
    "    # coordinates shift is smaller like this\n",
    "    buffer_y = int(np.floor((raster_high.shape[0]-shape_low[0]*stencil_y)/2))\n",
    "    buffer_x = int(np.floor((raster_high.shape[1]-shape_low[1]*stencil_x)/2))\n",
    "    for i in range(0, shape_low[0]):\n",
    "        for j in range(0, shape_low[1]):\n",
    "            raster_low[i,j] = np.mean(raster_high[buffer_y+(i*jump_y):buffer_y+(i*jump_y)+stencil_y,\n",
    "                                                  buffer_x+(j*jump_x):buffer_x+(j*jump_x)+stencil_x])\n",
    "\n",
    "    return raster_low\n",
    "\n",
    "def sum_sparse(mat_list):\n",
    "    mat_agg = np.zeros(mat_list[0].shape,mat_list[0].dtype)\n",
    "    for a in mat_list:\n",
    "        mat_agg[a.nonzero()] += a.data\n",
    "    return mat_agg\n",
    "\n",
    "def impacts_to_same_resolution(impact_low, impact_high, res_low=None, res_high=None):\n",
    "    if res_low is None:\n",
    "        lat_low = np.unique(list(impact_low.coord_exp[n][0] for n in range(len(impact_low.coord_exp))))\n",
    "        lon_low = np.unique(list(impact_low.coord_exp[n][1] for n in range(len(impact_low.coord_exp))))\n",
    "        res_low = (np.abs(lat_low[2]-lat_low[1]), np.abs(lon_low[2]-lon_low[1]))\n",
    "\n",
    "    if res_high is None:\n",
    "        lat_high = np.unique(list(impact_high.coord_exp[n][0] for n in range(len(impact_high.coord_exp))))\n",
    "        lon_high = np.unique(list(impact_high.coord_exp[n][1] for n in range(len(impact_high.coord_exp))))\n",
    "        res_high = (np.abs(lat_high[2]-lat_high[1]), np.abs(lon_high[2]-lon_high[1])) \n",
    "        \n",
    "    shape_low = impact_low.imp_mat.shape\n",
    "\n",
    "    imp_mat = downsample_raster(impact_high.imp_mat, res_low, res_high, shape_low)\n",
    "    impact_high.coord_exp = impact_low.coord_exp\n",
    "    impact_high.imp_mat = imp_mat\n",
    "    return impact_high\n",
    "    \n",
    "def combine_impacts(impact_list, how='sum', exp=None, years=None):\n",
    "    \"\"\"\n",
    "\n",
    "    Parameters\n",
    "    ----------\n",
    "    impact_list : sparse.csr_matrix\n",
    "        matrix num_events x num_exp with impacts.\n",
    "    how : how to combine the impacts, options are 'sum', 'max'\n",
    "    exposures : If the exposures are given, the impacts are caped at their value\n",
    "    \n",
    "    Returns\n",
    "    -------\n",
    "    imp : Impact\n",
    "        Combined impact\n",
    "    \"\"\"\n",
    "    imp = copy.deepcopy(impact_list[0])\n",
    "    def test_consitency(list_mat):\n",
    "        if not np.all(list_mat[:-1] == list_mat[1:]):\n",
    "            LOGGER.warning('The matrices do not have the same shape and will be scaled to the coarser resolution.')\n",
    "    if how == 'sum':\n",
    "        sum_mat = np.sum([impact.imp_mat for impact in impact_list],axis=0)\n",
    "    if exp is not None:\n",
    "        exp_mat = np.stack([exp.gdf.value.to_numpy() for n in np.unique(years)])\n",
    "        def sparse_min(A, B):\n",
    "            \"\"\"\n",
    "            Return the element-wise maximum of sparse matrices `A` and `B`.\n",
    "            \"\"\"\n",
    "            AgtB = (A < B).astype(int)\n",
    "            M = np.multiply(AgtB, A - B) + B\n",
    "            return sp.sparse.csr_matrix(M)\n",
    "        sum_mat = sparse_min(sum_mat, exp_mat)\n",
    "    imp = imp.set_imp_mat(sum_mat)\n",
    "    return imp\n",
    "\n",
    "def sample_events(impact, lam=1, years = np.array(range(1980,2000))):\n",
    "    #create sampling vector\n",
    "    events_per_year = yearsets.sample_from_poisson(len(years), lam)\n",
    "    sampling_vect = yearsets.sample_events(events_per_year, impact.frequency)\n",
    "    impact_sample = yearsets.impact_from_sample(impact, years, sampling_vect)\n",
    "    return impact_sample \n",
    "\n",
    "\n",
    "def open_impacts(country, csv, impact_mat):\n",
    "    try:\n",
    "        impact = Impact.from_csv(csv)\n",
    "        impact.imp_mat = impact.read_sparse_csr(impact_mat)\n",
    "        return impact\n",
    "    except:\n",
    "        print(\"\".join([\" No data for \", str(country)]))\n",
    "        return(None)\n",
    "\n",
    "def make_yearset(impact, country=None, n_samples=1, years=np.array(range(1,400))):\n",
    "    lam = np.sum(impact.frequency)\n",
    "    lam = np.round(lam, 10)\n",
    "    yearset_list = [sample_events(impact, lam=lam, years=years) for n in range(n_samples)]\n",
    "    if yearset_list[0].imp_mat.shape[0]>len(years):\n",
    "        client =Client()\n",
    "        exposures = client.get_litpop_default(country)\n",
    "        yearset_list = [yearsets.aggregate_impact_to_year(yearset, exp=exposures) for yearset in yearset_list]\n",
    "        \n",
    "    return(yearset_list)"
   ]
  },
  {
   "cell_type": "code",
   "execution_count": null,
   "id": "e466d37f",
   "metadata": {},
   "outputs": [],
   "source": []
  },
  {
   "cell_type": "code",
   "execution_count": 307,
   "id": "05d2bc0d",
   "metadata": {},
   "outputs": [
    {
     "name": "stdout",
     "output_type": "stream",
     "text": [
      " No data for VNM\n",
      " No data for COL\n"
     ]
    },
    {
     "name": "stderr",
     "output_type": "stream",
     "text": [
      "/var/folders/f5/lms0b90j1kx7kk4v552qkjqw0000gp/T/ipykernel_2354/3699137331.py:118: DtypeWarning: Columns (0,1,2,3,7,14) have mixed types.Specify dtype option on import or set low_memory=False.\n",
      "  impact = Impact.from_csv(csv)\n"
     ]
    },
    {
     "name": "stdout",
     "output_type": "stream",
     "text": [
      " No data for USA\n"
     ]
    }
   ],
   "source": [
    "impacts = {country:{hazard: open_impacts(country, impact_csvs[country][hazard], \n",
    "                                                  impact_mats[country][hazard]) for hazard in impact_csvs[country]} for country in impact_csvs}\n",
    "impacts_yearsets = {country:{hazard: make_yearset(impacts[country][hazard], country, n_samples=100, years=np.array(range(1,20))) for hazard in impacts[country] if impacts[country][hazard]!=None} for country in impacts}"
   ]
  },
  {
   "cell_type": "code",
   "execution_count": 431,
   "id": "c30f627f",
   "metadata": {},
   "outputs": [
    {
     "data": {
      "text/plain": [
       "1852"
      ]
     },
     "execution_count": 431,
     "metadata": {},
     "output_type": "execute_result"
    }
   ],
   "source": [
    "impacts['TWN']['TC'].imp_mat.shape[1]"
   ]
  },
  {
   "cell_type": "code",
   "execution_count": 308,
   "id": "478bead5",
   "metadata": {},
   "outputs": [],
   "source": [
    "event_select_hist = [\"gen\" not in event for event in impacts['TWN']['TC'].event_name]"
   ]
  },
  {
   "cell_type": "code",
   "execution_count": 390,
   "id": "5a3f92e5",
   "metadata": {},
   "outputs": [],
   "source": [
    "from datetime import datetime as dt\n",
    "d = dt.strptime('2000-01-01', '%Y-%m-%d').date()\n",
    "d = d.toordinal()\n",
    "event_select_date = [date<d for date in impacts['TWN']['TC'].date]\n",
    "event_select = np.logical_and(event_select_date,event_select_hist)\n",
    "ids_select = impacts['TWN']['TC'].event_id[event_select]\n",
    "impact_hist = impacts['TWN']['TC'].select(event_ids=ids_select)\n",
    "impact_hist = impact_hist.set_imp_mat(impact_hist.imp_mat)"
   ]
  },
  {
   "cell_type": "code",
   "execution_count": 349,
   "id": "d1b51e03",
   "metadata": {},
   "outputs": [],
   "source": [
    "from datetime import datetime as dt\n",
    "d = dt.strptime('2000-01-01', '%Y-%m-%d').date()\n",
    "d = d.toordinal()\n",
    "event_select_date = [date<d for date in impacts['TWN']['TC'].date]\n",
    "event_select = event_select_hist\n",
    "ids_select = impacts['TWN']['TC'].event_id[event_select]\n",
    "impact_hist_1980_2020 = impacts['TWN']['TC'].select(event_ids=ids_select)\n",
    "impact_hist_1980_2020 = impact_hist.set_imp_mat(impact_hist.imp_mat)"
   ]
  },
  {
   "cell_type": "code",
   "execution_count": 350,
   "id": "852de95e",
   "metadata": {
    "scrolled": true
   },
   "outputs": [],
   "source": [
    "impact_hist_year_1980_2020 = yearsets.aggregate_impact_to_year(impact_hist_1980_2020, exposures_twn)\n",
    "impact_tc_hist_year_1980_2020 = impact_hist_year.set_imp_mat(impact_hist_year_1980_2020.imp_mat)"
   ]
  },
  {
   "cell_type": "code",
   "execution_count": 351,
   "id": "831a29ed",
   "metadata": {},
   "outputs": [
    {
     "data": {
      "text/plain": [
       "<matplotlib.collections.PathCollection at 0x7fb825a77400>"
      ]
     },
     "execution_count": 351,
     "metadata": {},
     "output_type": "execute_result"
    },
    {
     "data": {
      "image/png": "[encoded data removed]",
      "text/plain": [
       "<Figure size 432x288 with 1 Axes>"
      ]
     },
     "metadata": {
      "needs_background": "light"
     },
     "output_type": "display_data"
    }
   ],
   "source": [
    "plt.scatter(impact_hist_1980_2020.date[impact_hist_1980_2020.at_event>0], impact_hist_1980_2020.at_event[impact_hist_1980_2020.at_event>0])"
   ]
  },
  {
   "cell_type": "code",
   "execution_count": 352,
   "id": "2155c5e8",
   "metadata": {
    "scrolled": true
   },
   "outputs": [],
   "source": [
    "timeseries = [date for date in impact_hist_1980_2020.date if dt.fromordinal(int(date)).month>5]\n",
    "timeseries_impact = [np.sum(impact_hist_1980_2020.at_event[impact_hist_1980_2020.date==t]) for t in timeseries]"
   ]
  },
  {
   "cell_type": "code",
   "execution_count": 353,
   "id": "688a3894",
   "metadata": {
    "collapsed": true
   },
   "outputs": [
    {
     "data": {
      "text/plain": [
       "[0.0,\n",
       " 4149617350.4760323,\n",
       " 0.0,\n",
       " 0.0,\n",
       " 0.0,\n",
       " 0.0,\n",
       " 0.0,\n",
       " 0.0,\n",
       " 0.0,\n",
       " 0.0,\n",
       " 0.0,\n",
       " 0.0,\n",
       " 0.0,\n",
       " 0.0,\n",
       " 0.0,\n",
       " 0.0,\n",
       " 0.0,\n",
       " 0.0,\n",
       " 0.0,\n",
       " 0.0,\n",
       " 0.0,\n",
       " 0.0,\n",
       " 0.0,\n",
       " 0.0,\n",
       " 0.0,\n",
       " 0.0,\n",
       " 0.0,\n",
       " 0.0,\n",
       " 0.0,\n",
       " 0.0,\n",
       " 0.0,\n",
       " 0.0,\n",
       " 0.0,\n",
       " 0.0,\n",
       " 0.0,\n",
       " 0.0,\n",
       " 0.0,\n",
       " 0.0,\n",
       " 0.0,\n",
       " 0.0,\n",
       " 0.0,\n",
       " 0.0,\n",
       " 0.0,\n",
       " 0.0,\n",
       " 0.0,\n",
       " 0.0,\n",
       " 0.0,\n",
       " 0.0,\n",
       " 0.0,\n",
       " 0.0,\n",
       " 0.0,\n",
       " 0.0,\n",
       " 0.0,\n",
       " 0.0,\n",
       " 0.0,\n",
       " 0.0,\n",
       " 0.0,\n",
       " 0.0,\n",
       " 0.0,\n",
       " 0.0,\n",
       " 0.0,\n",
       " 0.0,\n",
       " 0.0,\n",
       " 0.0,\n",
       " 0.0,\n",
       " 0.0,\n",
       " 0.0,\n",
       " 0.0,\n",
       " 0.0,\n",
       " 0.0,\n",
       " 0.0,\n",
       " 0.0,\n",
       " 0.0,\n",
       " 0.0,\n",
       " 0.0,\n",
       " 0.0,\n",
       " 0.0,\n",
       " 0.0,\n",
       " 0.0,\n",
       " 0.0,\n",
       " 0.0,\n",
       " 0.0,\n",
       " 0.0,\n",
       " 0.0,\n",
       " 0.0,\n",
       " 0.0,\n",
       " 0.0,\n",
       " 0.0,\n",
       " 0.0,\n",
       " 0.0,\n",
       " 0.0,\n",
       " 457505.68675437785,\n",
       " 0.0,\n",
       " 0.0,\n",
       " 0.0,\n",
       " 0.0,\n",
       " 0.0,\n",
       " 0.0,\n",
       " 0.0,\n",
       " 0.0,\n",
       " 0.0,\n",
       " 0.0,\n",
       " 0.0,\n",
       " 0.0,\n",
       " 0.0,\n",
       " 0.0,\n",
       " 0.0,\n",
       " 0.0,\n",
       " 0.0,\n",
       " 0.0,\n",
       " 0.0,\n",
       " 0.0,\n",
       " 0.0,\n",
       " 0.0,\n",
       " 0.0,\n",
       " 0.0,\n",
       " 0.0,\n",
       " 0.0,\n",
       " 0.0,\n",
       " 0.0,\n",
       " 0.0,\n",
       " 0.0,\n",
       " 0.0,\n",
       " 0.0,\n",
       " 0.0,\n",
       " 0.0,\n",
       " 0.0,\n",
       " 0.0,\n",
       " 0.0,\n",
       " 0.0,\n",
       " 0.0,\n",
       " 0.0,\n",
       " 0.0,\n",
       " 0.0,\n",
       " 0.0,\n",
       " 0.0,\n",
       " 0.0,\n",
       " 0.0,\n",
       " 0.0,\n",
       " 0.0,\n",
       " 0.0,\n",
       " 0.0,\n",
       " 0.0,\n",
       " 0.0,\n",
       " 0.0,\n",
       " 0.0,\n",
       " 0.0,\n",
       " 0.0,\n",
       " 0.0,\n",
       " 0.0,\n",
       " 0.0,\n",
       " 0.0,\n",
       " 0.0,\n",
       " 0.0,\n",
       " 0.0,\n",
       " 0.0,\n",
       " 0.0,\n",
       " 0.0,\n",
       " 0.0,\n",
       " 0.0,\n",
       " 0.0,\n",
       " 0.0,\n",
       " 0.0,\n",
       " 0.0,\n",
       " 0.0,\n",
       " 0.0,\n",
       " 0.0,\n",
       " 0.0,\n",
       " 0.0,\n",
       " 0.0,\n",
       " 0.0,\n",
       " 0.0,\n",
       " 0.0,\n",
       " 0.0,\n",
       " 0.0,\n",
       " 0.0,\n",
       " 0.0,\n",
       " 0.0,\n",
       " 0.0,\n",
       " 0.0,\n",
       " 0.0,\n",
       " 0.0,\n",
       " 0.0,\n",
       " 0.0,\n",
       " 0.0,\n",
       " 0.0,\n",
       " 0.0,\n",
       " 0.0,\n",
       " 0.0,\n",
       " 0.0,\n",
       " 0.0,\n",
       " 0.0,\n",
       " 0.0,\n",
       " 0.0,\n",
       " 0.0,\n",
       " 0.0,\n",
       " 0.0,\n",
       " 0.0,\n",
       " 0.0,\n",
       " 0.0,\n",
       " 0.0,\n",
       " 0.0,\n",
       " 0.0,\n",
       " 0.0,\n",
       " 0.0,\n",
       " 0.0,\n",
       " 0.0,\n",
       " 0.0,\n",
       " 0.0,\n",
       " 0.0,\n",
       " 0.0,\n",
       " 0.0,\n",
       " 0.0,\n",
       " 0.0,\n",
       " 0.0,\n",
       " 0.0,\n",
       " 0.0,\n",
       " 0.0,\n",
       " 0.0,\n",
       " 0.0,\n",
       " 0.0,\n",
       " 0.0,\n",
       " 0.0,\n",
       " 0.0,\n",
       " 0.0,\n",
       " 0.0,\n",
       " 0.0,\n",
       " 0.0,\n",
       " 0.0,\n",
       " 0.0,\n",
       " 0.0,\n",
       " 0.0,\n",
       " 0.0,\n",
       " 0.0,\n",
       " 0.0,\n",
       " 0.0,\n",
       " 0.0,\n",
       " 0.0,\n",
       " 0.0,\n",
       " 0.0,\n",
       " 0.0,\n",
       " 0.0,\n",
       " 0.0,\n",
       " 0.0,\n",
       " 0.0,\n",
       " 0.0,\n",
       " 0.0,\n",
       " 0.0,\n",
       " 0.0,\n",
       " 0.0,\n",
       " 0.0,\n",
       " 0.0,\n",
       " 0.0,\n",
       " 0.0,\n",
       " 0.0,\n",
       " 0.0,\n",
       " 0.0,\n",
       " 0.0,\n",
       " 0.0,\n",
       " 0.0,\n",
       " 0.0,\n",
       " 0.0,\n",
       " 0.0,\n",
       " 0.0,\n",
       " 0.0,\n",
       " 0.0,\n",
       " 0.0,\n",
       " 0.0,\n",
       " 0.0,\n",
       " 0.0,\n",
       " 0.0,\n",
       " 0.0,\n",
       " 0.0,\n",
       " 0.0,\n",
       " 0.0,\n",
       " 0.0,\n",
       " 0.0,\n",
       " 0.0,\n",
       " 0.0,\n",
       " 0.0,\n",
       " 0.0,\n",
       " 0.0,\n",
       " 0.0,\n",
       " 0.0,\n",
       " 0.0,\n",
       " 0.0,\n",
       " 0.0,\n",
       " 0.0,\n",
       " 0.0,\n",
       " 0.0,\n",
       " 0.0,\n",
       " 0.0,\n",
       " 0.0,\n",
       " 0.0,\n",
       " 0.0,\n",
       " 0.0,\n",
       " 0.0,\n",
       " 0.0,\n",
       " 0.0,\n",
       " 0.0,\n",
       " 0.0,\n",
       " 0.0,\n",
       " 0.0,\n",
       " 0.0,\n",
       " 0.0,\n",
       " 0.0,\n",
       " 0.0,\n",
       " 0.0,\n",
       " 0.0,\n",
       " 0.0,\n",
       " 0.0,\n",
       " 0.0,\n",
       " 0.0,\n",
       " 0.0,\n",
       " 0.0,\n",
       " 0.0,\n",
       " 0.0,\n",
       " 0.0,\n",
       " 0.0,\n",
       " 0.0,\n",
       " 0.0,\n",
       " 0.0,\n",
       " 0.0,\n",
       " 0.0,\n",
       " 0.0,\n",
       " 0.0,\n",
       " 0.0,\n",
       " 0.0,\n",
       " 0.0,\n",
       " 0.0,\n",
       " 0.0,\n",
       " 0.0,\n",
       " 0.0,\n",
       " 0.0,\n",
       " 0.0,\n",
       " 0.0,\n",
       " 0.0,\n",
       " 0.0,\n",
       " 0.0,\n",
       " 0.0,\n",
       " 0.0,\n",
       " 0.0,\n",
       " 0.0,\n",
       " 0.0,\n",
       " 0.0,\n",
       " 0.0,\n",
       " 0.0,\n",
       " 0.0,\n",
       " 0.0,\n",
       " 0.0,\n",
       " 0.0,\n",
       " 0.0,\n",
       " 0.0,\n",
       " 0.0,\n",
       " 0.0,\n",
       " 0.0,\n",
       " 0.0,\n",
       " 0.0,\n",
       " 0.0,\n",
       " 0.0,\n",
       " 0.0,\n",
       " 0.0,\n",
       " 0.0,\n",
       " 0.0,\n",
       " 0.0,\n",
       " 0.0,\n",
       " 0.0,\n",
       " 0.0,\n",
       " 0.0,\n",
       " 0.0,\n",
       " 0.0,\n",
       " 0.0,\n",
       " 0.0,\n",
       " 0.0,\n",
       " 0.0,\n",
       " 0.0,\n",
       " 0.0,\n",
       " 0.0,\n",
       " 0.0,\n",
       " 0.0,\n",
       " 0.0,\n",
       " 0.0,\n",
       " 0.0,\n",
       " 0.0,\n",
       " 0.0,\n",
       " 0.0,\n",
       " 0.0,\n",
       " 0.0,\n",
       " 0.0,\n",
       " 0.0,\n",
       " 0.0,\n",
       " 0.0,\n",
       " 0.0,\n",
       " 0.0,\n",
       " 0.0,\n",
       " 0.0,\n",
       " 0.0,\n",
       " 0.0,\n",
       " 0.0,\n",
       " 0.0,\n",
       " 0.0,\n",
       " 0.0,\n",
       " 0.0,\n",
       " 0.0,\n",
       " 0.0,\n",
       " 0.0,\n",
       " 0.0,\n",
       " 0.0,\n",
       " 0.0,\n",
       " 0.0,\n",
       " 0.0,\n",
       " 0.0,\n",
       " 0.0,\n",
       " 0.0,\n",
       " 0.0,\n",
       " 0.0,\n",
       " 0.0,\n",
       " 0.0,\n",
       " 0.0,\n",
       " 0.0,\n",
       " 0.0,\n",
       " 0.0,\n",
       " 0.0,\n",
       " 0.0,\n",
       " 0.0,\n",
       " 0.0,\n",
       " 0.0,\n",
       " 0.0,\n",
       " 0.0,\n",
       " 0.0,\n",
       " 0.0,\n",
       " 0.0,\n",
       " 0.0,\n",
       " 0.0,\n",
       " 0.0,\n",
       " 0.0,\n",
       " 0.0,\n",
       " 0.0,\n",
       " 0.0,\n",
       " 0.0,\n",
       " 0.0,\n",
       " 0.0,\n",
       " 0.0,\n",
       " 0.0,\n",
       " 0.0,\n",
       " 0.0,\n",
       " 0.0,\n",
       " 0.0,\n",
       " 0.0,\n",
       " 0.0,\n",
       " 0.0,\n",
       " 0.0,\n",
       " 300898531.9484029,\n",
       " 0.0,\n",
       " 0.0,\n",
       " 0.0,\n",
       " 0.0,\n",
       " 0.0,\n",
       " 0.0,\n",
       " 0.0,\n",
       " 0.0,\n",
       " 0.0,\n",
       " 0.0,\n",
       " 0.0,\n",
       " 0.0,\n",
       " 0.0,\n",
       " 0.0,\n",
       " 0.0,\n",
       " 0.0,\n",
       " 0.0,\n",
       " 366611255.3680567,\n",
       " 366611255.3680567,\n",
       " 0.0,\n",
       " 0.0,\n",
       " 0.0,\n",
       " 0.0,\n",
       " 0.0,\n",
       " 0.0,\n",
       " 0.0,\n",
       " 0.0,\n",
       " 0.0,\n",
       " 0.0,\n",
       " 0.0,\n",
       " 0.0,\n",
       " 0.0,\n",
       " 0.0,\n",
       " 0.0,\n",
       " 0.0,\n",
       " 0.0,\n",
       " 0.0,\n",
       " 0.0,\n",
       " 0.0,\n",
       " 0.0,\n",
       " 0.0,\n",
       " 0.0,\n",
       " 0.0,\n",
       " 0.0,\n",
       " 0.0,\n",
       " 0.0,\n",
       " 0.0,\n",
       " 0.0,\n",
       " 2260780714.093296,\n",
       " 0.0,\n",
       " 0.0,\n",
       " 0.0,\n",
       " 0.0,\n",
       " 0.0,\n",
       " 0.0,\n",
       " 0.0,\n",
       " 0.0,\n",
       " 0.0,\n",
       " 0.0,\n",
       " 0.0,\n",
       " 0.0,\n",
       " 0.0,\n",
       " 0.0,\n",
       " 0.0,\n",
       " 0.0,\n",
       " 0.0,\n",
       " 0.0,\n",
       " 0.0,\n",
       " 0.0,\n",
       " 0.0,\n",
       " 0.0,\n",
       " 0.0,\n",
       " 322838.46627991006,\n",
       " 0.0,\n",
       " 0.0,\n",
       " 0.0,\n",
       " 0.0,\n",
       " 0.0,\n",
       " 0.0,\n",
       " 0.0,\n",
       " 0.0,\n",
       " 0.0,\n",
       " 0.0,\n",
       " 0.0,\n",
       " 0.0,\n",
       " 0.0,\n",
       " 0.0,\n",
       " 0.0,\n",
       " 0.0,\n",
       " 0.0,\n",
       " 0.0,\n",
       " 0.0,\n",
       " 0.0,\n",
       " 0.0,\n",
       " 0.0,\n",
       " 0.0,\n",
       " 0.0,\n",
       " 0.0,\n",
       " 0.0,\n",
       " 0.0,\n",
       " 0.0,\n",
       " 0.0,\n",
       " 0.0,\n",
       " 0.0,\n",
       " 0.0,\n",
       " 0.0,\n",
       " 0.0,\n",
       " 0.0,\n",
       " 0.0,\n",
       " 0.0,\n",
       " 0.0,\n",
       " 0.0,\n",
       " 0.0,\n",
       " 0.0,\n",
       " 0.0,\n",
       " 0.0,\n",
       " 0.0,\n",
       " 0.0,\n",
       " 0.0,\n",
       " 0.0,\n",
       " 0.0,\n",
       " 0.0,\n",
       " 0.0,\n",
       " 0.0,\n",
       " 0.0,\n",
       " 0.0,\n",
       " 0.0,\n",
       " 0.0,\n",
       " 0.0,\n",
       " 0.0,\n",
       " 0.0,\n",
       " 0.0,\n",
       " 0.0,\n",
       " 0.0,\n",
       " 0.0,\n",
       " 0.0,\n",
       " 34036441.151960656,\n",
       " 0.0,\n",
       " 0.0,\n",
       " 0.0,\n",
       " 0.0,\n",
       " 0.0,\n",
       " 0.0,\n",
       " 0.0,\n",
       " 0.0,\n",
       " 0.0,\n",
       " 0.0,\n",
       " 0.0,\n",
       " 24704.635419177113,\n",
       " 0.0,\n",
       " 0.0,\n",
       " 0.0,\n",
       " 0.0,\n",
       " 0.0,\n",
       " 0.0,\n",
       " 0.0,\n",
       " 0.0,\n",
       " 0.0,\n",
       " 0.0,\n",
       " 0.0,\n",
       " 0.0,\n",
       " 0.0,\n",
       " 0.0,\n",
       " 0.0,\n",
       " 0.0,\n",
       " 0.0,\n",
       " 0.0,\n",
       " 0.0,\n",
       " 0.0,\n",
       " 0.0,\n",
       " 0.0,\n",
       " 0.0,\n",
       " 0.0,\n",
       " 0.0,\n",
       " 0.0,\n",
       " 0.0,\n",
       " 0.0,\n",
       " 0.0,\n",
       " 0.0,\n",
       " 0.0,\n",
       " 0.0,\n",
       " 0.0,\n",
       " 0.0,\n",
       " 0.0,\n",
       " 0.0,\n",
       " 0.0,\n",
       " 0.0,\n",
       " 0.0,\n",
       " 0.0,\n",
       " 0.0,\n",
       " 0.0,\n",
       " 0.0,\n",
       " 0.0,\n",
       " 0.0,\n",
       " 0.0,\n",
       " 0.0,\n",
       " 0.0,\n",
       " 0.0,\n",
       " 0.0,\n",
       " 0.0,\n",
       " 0.0,\n",
       " 0.0,\n",
       " 0.0,\n",
       " 0.0,\n",
       " 0.0,\n",
       " 0.0,\n",
       " 0.0,\n",
       " 0.0,\n",
       " 0.0,\n",
       " 0.0,\n",
       " 0.0,\n",
       " 0.0,\n",
       " 0.0,\n",
       " 0.0,\n",
       " 0.0,\n",
       " 0.0,\n",
       " 0.0,\n",
       " 0.0,\n",
       " 0.0,\n",
       " 0.0,\n",
       " 0.0,\n",
       " 0.0,\n",
       " 0.0,\n",
       " 0.0,\n",
       " 0.0,\n",
       " 0.0,\n",
       " 0.0,\n",
       " 0.0,\n",
       " 0.0,\n",
       " 0.0,\n",
       " 0.0,\n",
       " 0.0,\n",
       " 0.0,\n",
       " 0.0,\n",
       " 0.0,\n",
       " 0.0,\n",
       " 0.0,\n",
       " 0.0,\n",
       " 0.0,\n",
       " 0.0,\n",
       " 0.0,\n",
       " 0.0,\n",
       " 0.0,\n",
       " 0.0,\n",
       " 0.0,\n",
       " 0.0,\n",
       " 0.0,\n",
       " 0.0,\n",
       " 0.0,\n",
       " 0.0,\n",
       " 0.0,\n",
       " 0.0,\n",
       " 0.0,\n",
       " 0.0,\n",
       " 0.0,\n",
       " 0.0,\n",
       " 0.0,\n",
       " 0.0,\n",
       " 0.0,\n",
       " 0.0,\n",
       " 0.0,\n",
       " 0.0,\n",
       " 0.0,\n",
       " 0.0,\n",
       " 0.0,\n",
       " 0.0,\n",
       " 0.0,\n",
       " 0.0,\n",
       " 0.0,\n",
       " 0.0,\n",
       " 0.0,\n",
       " 0.0,\n",
       " 0.0,\n",
       " 0.0,\n",
       " 0.0,\n",
       " 0.0,\n",
       " 0.0,\n",
       " 0.0,\n",
       " 0.0,\n",
       " 0.0,\n",
       " 0.0,\n",
       " 140001034.91407606,\n",
       " 140001034.91407606,\n",
       " 0.0,\n",
       " 0.0,\n",
       " 0.0,\n",
       " 0.0,\n",
       " 0.0,\n",
       " 0.0,\n",
       " 0.0,\n",
       " 0.0,\n",
       " 0.0,\n",
       " 0.0,\n",
       " 0.0,\n",
       " 0.0,\n",
       " 0.0,\n",
       " 0.0,\n",
       " 0.0,\n",
       " 0.0,\n",
       " 0.0,\n",
       " 0.0,\n",
       " 0.0,\n",
       " 0.0,\n",
       " 0.0,\n",
       " 0.0,\n",
       " 0.0,\n",
       " 0.0,\n",
       " 0.0,\n",
       " 0.0,\n",
       " 0.0,\n",
       " 0.0,\n",
       " 0.0,\n",
       " 0.0,\n",
       " 0.0,\n",
       " 0.0,\n",
       " 0.0,\n",
       " 0.0,\n",
       " 0.0,\n",
       " 0.0,\n",
       " 0.0,\n",
       " 0.0,\n",
       " 0.0,\n",
       " 0.0,\n",
       " 0.0,\n",
       " 0.0,\n",
       " 0.0,\n",
       " 0.0,\n",
       " 0.0,\n",
       " 0.0,\n",
       " 0.0,\n",
       " 0.0,\n",
       " 0.0,\n",
       " 0.0,\n",
       " 0.0,\n",
       " 0.0,\n",
       " 0.0,\n",
       " 0.0,\n",
       " 0.0,\n",
       " 0.0,\n",
       " 0.0,\n",
       " 0.0,\n",
       " 0.0,\n",
       " 0.0,\n",
       " 0.0,\n",
       " 0.0,\n",
       " 0.0,\n",
       " 0.0,\n",
       " 0.0,\n",
       " 0.0,\n",
       " 0.0,\n",
       " 0.0,\n",
       " 0.0,\n",
       " 0.0,\n",
       " 0.0,\n",
       " 0.0,\n",
       " 0.0,\n",
       " 0.0,\n",
       " 0.0,\n",
       " 0.0,\n",
       " 0.0,\n",
       " 0.0,\n",
       " 0.0,\n",
       " 0.0,\n",
       " 0.0,\n",
       " 0.0,\n",
       " 0.0,\n",
       " 0.0,\n",
       " 0.0,\n",
       " 0.0,\n",
       " 0.0,\n",
       " 0.0,\n",
       " 0.0,\n",
       " 0.0,\n",
       " 0.0,\n",
       " 0.0,\n",
       " 0.0,\n",
       " 0.0,\n",
       " 0.0,\n",
       " 0.0,\n",
       " 0.0,\n",
       " 0.0,\n",
       " 0.0,\n",
       " 0.0,\n",
       " 0.0,\n",
       " 0.0,\n",
       " 0.0,\n",
       " 0.0,\n",
       " 0.0,\n",
       " 0.0,\n",
       " 0.0,\n",
       " 0.0,\n",
       " 0.0,\n",
       " 0.0,\n",
       " 0.0,\n",
       " 0.0,\n",
       " 0.0,\n",
       " 0.0,\n",
       " 0.0,\n",
       " 0.0,\n",
       " 0.0,\n",
       " 0.0,\n",
       " 0.0,\n",
       " 0.0,\n",
       " 0.0,\n",
       " 0.0,\n",
       " 0.0,\n",
       " 0.0,\n",
       " 0.0,\n",
       " 0.0,\n",
       " 0.0,\n",
       " 0.0,\n",
       " 0.0,\n",
       " 0.0,\n",
       " 0.0,\n",
       " 0.0,\n",
       " 0.0,\n",
       " 0.0,\n",
       " 0.0,\n",
       " 0.0,\n",
       " 0.0,\n",
       " 0.0,\n",
       " 293714596.52021086,\n",
       " 0.0,\n",
       " 0.0,\n",
       " 0.0,\n",
       " 0.0,\n",
       " 0.0,\n",
       " 0.0,\n",
       " 0.0,\n",
       " 0.0,\n",
       " 0.0,\n",
       " 0.0,\n",
       " 0.0,\n",
       " 0.0,\n",
       " 0.0,\n",
       " 0.0,\n",
       " 0.0,\n",
       " 0.0,\n",
       " 0.0,\n",
       " 0.0,\n",
       " 0.0,\n",
       " 0.0,\n",
       " 0.0,\n",
       " 0.0,\n",
       " 0.0,\n",
       " 0.0,\n",
       " 0.0,\n",
       " 0.0,\n",
       " 0.0,\n",
       " 0.0,\n",
       " 0.0,\n",
       " 0.0,\n",
       " 0.0,\n",
       " 0.0,\n",
       " 0.0,\n",
       " 0.0,\n",
       " 0.0,\n",
       " 0.0,\n",
       " 0.0,\n",
       " 0.0,\n",
       " 0.0,\n",
       " 0.0,\n",
       " 0.0,\n",
       " 0.0,\n",
       " 0.0,\n",
       " 0.0,\n",
       " 0.0,\n",
       " 0.0,\n",
       " 0.0,\n",
       " 0.0,\n",
       " 0.0,\n",
       " 0.0,\n",
       " 0.0,\n",
       " 0.0,\n",
       " 0.0,\n",
       " 0.0,\n",
       " 0.0,\n",
       " 0.0,\n",
       " 0.0,\n",
       " 872392.5934610044,\n",
       " 0.0,\n",
       " 0.0,\n",
       " 0.0,\n",
       " 0.0,\n",
       " 0.0,\n",
       " 0.0,\n",
       " 0.0,\n",
       " 0.0,\n",
       " 0.0,\n",
       " 0.0,\n",
       " 0.0,\n",
       " 0.0,\n",
       " 0.0,\n",
       " 0.0,\n",
       " 0.0,\n",
       " 0.0,\n",
       " 0.0,\n",
       " 0.0,\n",
       " 0.0,\n",
       " 0.0,\n",
       " 0.0,\n",
       " 0.0,\n",
       " 0.0,\n",
       " 0.0,\n",
       " 0.0,\n",
       " 0.0,\n",
       " 0.0,\n",
       " 0.0,\n",
       " 0.0,\n",
       " 0.0,\n",
       " 0.0,\n",
       " 0.0,\n",
       " 0.0,\n",
       " 0.0,\n",
       " 0.0,\n",
       " 0.0,\n",
       " 0.0,\n",
       " 0.0,\n",
       " 0.0,\n",
       " 0.0,\n",
       " 0.0,\n",
       " 0.0,\n",
       " 0.0,\n",
       " 0.0,\n",
       " 0.0,\n",
       " 0.0,\n",
       " 0.0,\n",
       " 0.0,\n",
       " 0.0,\n",
       " 0.0,\n",
       " 0.0,\n",
       " 0.0,\n",
       " 0.0,\n",
       " 0.0,\n",
       " 0.0,\n",
       " 0.0,\n",
       " 0.0,\n",
       " 0.0,\n",
       " 0.0,\n",
       " 0.0,\n",
       " 0.0,\n",
       " 0.0,\n",
       " 0.0,\n",
       " 0.0,\n",
       " 0.0,\n",
       " 0.0,\n",
       " 0.0,\n",
       " ...]"
      ]
     },
     "execution_count": 353,
     "metadata": {},
     "output_type": "execute_result"
    }
   ],
   "source": [
    "timeseries_impact"
   ]
  },
  {
   "cell_type": "code",
   "execution_count": 354,
   "id": "8c20b22b",
   "metadata": {},
   "outputs": [
    {
     "data": {
      "text/plain": [
       "Text(0.5, 0, 'Lag [Years]')"
      ]
     },
     "execution_count": 354,
     "metadata": {},
     "output_type": "execute_result"
    },
    {
     "data": {
      "image/png": "[encoded data removed]",
      "text/plain": [
       "<Figure size 360x216 with 1 Axes>"
      ]
     },
     "metadata": {
      "needs_background": "light"
     },
     "output_type": "display_data"
    },
    {
     "data": {
      "image/png": "[encoded data removed]",
      "text/plain": [
       "<Figure size 360x216 with 1 Axes>"
      ]
     },
     "metadata": {
      "needs_background": "light"
     },
     "output_type": "display_data"
    }
   ],
   "source": [
    "from statsmodels.graphics.tsaplots import plot_acf\n",
    "import matplotlib.pyplot as plt\n",
    "# Use the Autocorrelation function\n",
    "# from the statsmodel library passing\n",
    "# our DataFrame object in as the data\n",
    "# Note: Limiting Lags to 50\n",
    "\n",
    "fig,ax = plt.subplots(figsize=(5,3))\n",
    "plot_acf(np.array(timeseries_impact),lags=20, title='Autocorelation Between TC Events', ax=ax, color=\"dodgerblue\")\n",
    "plt.xlabel('Lag [event]')\n",
    "# Show the AR as a plot\n",
    "fig,ax = plt.subplots(figsize=(5,3))\n",
    "\n",
    "plot_acf(np.array(impact_rf_hist_year.at_event), title='Autocorelation Between RF Impacts per Year', ax=ax, color=\"dodgerblue\")\n",
    "plt.xlabel('Lag [Years]')\n",
    "\n"
   ]
  },
  {
   "cell_type": "code",
   "execution_count": null,
   "id": "18d7c132",
   "metadata": {},
   "outputs": [],
   "source": []
  },
  {
   "cell_type": "code",
   "execution_count": 355,
   "id": "3c5ac7d3",
   "metadata": {},
   "outputs": [
    {
     "data": {
      "text/plain": [
       "[<matplotlib.lines.Line2D at 0x7fb825ad4cd0>]"
      ]
     },
     "execution_count": 355,
     "metadata": {},
     "output_type": "execute_result"
    },
    {
     "data": {
      "image/png": "[encoded data removed]",
      "text/plain": [
       "<Figure size 432x288 with 1 Axes>"
      ]
     },
     "metadata": {
      "needs_background": "light"
     },
     "output_type": "display_data"
    }
   ],
   "source": [
    "plt.plot(impact_tc_hist_year_1980_2020.date[impact_tc_hist_year_1980_2020.at_event>0], impact_tc_hist_year_1980_2020.at_event[impact_tc_hist_year_1980_2020.at_event>0])"
   ]
  },
  {
   "cell_type": "code",
   "execution_count": 356,
   "id": "c7eeeaea",
   "metadata": {},
   "outputs": [
    {
     "data": {
      "text/plain": [
       "array([3.05669944e+09, 9.29075404e+07, 5.38561268e+08, 1.87345521e+07,\n",
       "       3.16806849e+08, 4.77920666e+08, 1.11338967e+09, 4.08771824e+08,\n",
       "       2.15052004e+06, 1.00498783e+08, 4.58397576e+09, 4.13753289e+08,\n",
       "       5.56619622e+08, 7.24842560e+02, 3.34873466e+09, 3.24196543e+05,\n",
       "       5.50573839e+09, 7.82187892e+08, 4.79098890e+08, 1.20942615e+07,\n",
       "       1.37399718e+09, 2.79717322e+08, 2.19892828e+05, 4.09832334e+08,\n",
       "       7.21164596e+08, 4.42482975e+06, 7.50020277e+08, 7.23377208e+09,\n",
       "       1.40007923e+08, 1.37524185e+08, 2.41640526e+06, 1.99311000e+07,\n",
       "       2.31709662e+09, 2.81914124e+07, 2.08223237e+09, 1.67731478e+09,\n",
       "       1.18192967e+09, 8.72392593e+05])"
      ]
     },
     "execution_count": 356,
     "metadata": {},
     "output_type": "execute_result"
    }
   ],
   "source": [
    "impact_tc_hist_year_1980_2020.at_event[impact_tc_hist_year_1980_2020.at_event>0]"
   ]
  },
  {
   "cell_type": "code",
   "execution_count": null,
   "id": "fe0e8d48",
   "metadata": {},
   "outputs": [],
   "source": []
  },
  {
   "cell_type": "code",
   "execution_count": 357,
   "id": "d9c68381",
   "metadata": {},
   "outputs": [],
   "source": [
    "impact_hist = impacts['TWN']['TC'].select(event_ids=ids_select)"
   ]
  },
  {
   "cell_type": "code",
   "execution_count": 358,
   "id": "b53e6991",
   "metadata": {},
   "outputs": [],
   "source": [
    "impact_hist = impact_hist.set_imp_mat(impact_hist.imp_mat)"
   ]
  },
  {
   "cell_type": "code",
   "execution_count": 359,
   "id": "2c1196cd",
   "metadata": {},
   "outputs": [],
   "source": [
    "from climada.util.api_client import Client\n",
    "from scipy.sparse import coo_matrix, csr_matrix, vstack, hstack\n",
    "client=Client()\n",
    "exposures_twn = client.get_litpop_default('TWN')"
   ]
  },
  {
   "cell_type": "code",
   "execution_count": 471,
   "id": "4d9889af",
   "metadata": {
    "scrolled": true
   },
   "outputs": [],
   "source": [
    "impact_hist_year = yearsets.aggregate_impact_to_year(impact_hist, exposures_twn)\n",
    "impact_tc_hist_year = impact_hist_year.set_imp_mat(impact_hist_year.imp_mat)"
   ]
  },
  {
   "cell_type": "code",
   "execution_count": 393,
   "id": "445041a4",
   "metadata": {},
   "outputs": [],
   "source": [
    "impact_at_event_rf_hist = [[impacts['TWN']['RF'].at_event[n] for n in range(len(impacts['TWN']['RF'].at_event)) if impacts['TWN']['RF'].date[n] == date] for date in np.unique(impacts['TWN']['RF'].date)]"
   ]
  },
  {
   "cell_type": "code",
   "execution_count": 363,
   "id": "dd03ad5c",
   "metadata": {},
   "outputs": [
    {
     "data": {
      "text/plain": [
       "NormaltestResult(statistic=12.745052995102764, pvalue=0.0017078389193941473)"
      ]
     },
     "execution_count": 363,
     "metadata": {},
     "output_type": "execute_result"
    }
   ],
   "source": [
    "scipy.stats.normaltest(impact_at_event_rf_hist[2])\n"
   ]
  },
  {
   "cell_type": "code",
   "execution_count": 364,
   "id": "d3f3d61c",
   "metadata": {
    "scrolled": true
   },
   "outputs": [],
   "source": [
    "matrices_years = [csr_matrix(np.median(vstack([impacts['TWN']['RF'].imp_mat[n] for n in range(len(impacts['TWN']['RF'].at_event)) if impacts['TWN']['RF'].date[n] == date]).todense(),axis=0)) for date in np.unique(impacts['TWN']['RF'].date)]"
   ]
  },
  {
   "cell_type": "code",
   "execution_count": 472,
   "id": "7b3caeda",
   "metadata": {
    "scrolled": true
   },
   "outputs": [],
   "source": [
    "impact_rf_hist_year = Impact()\n",
    "impact_rf_hist_year.frequency = np.ones(20)\n",
    "impact_rf_hist_year = impact_rf_hist_year.set_imp_mat(vstack(matrices_years))"
   ]
  },
  {
   "cell_type": "code",
   "execution_count": 409,
   "id": "26bcc845",
   "metadata": {},
   "outputs": [
    {
     "data": {
      "text/plain": [
       "Text(0, 0.5, 'Frequency')"
      ]
     },
     "execution_count": 409,
     "metadata": {},
     "output_type": "execute_result"
    },
    {
     "data": {
      "image/png": "[encoded data removed]",
      "text/plain": [
       "<Figure size 360x252 with 1 Axes>"
      ]
     },
     "metadata": {
      "needs_background": "light"
     },
     "output_type": "display_data"
    },
    {
     "data": {
      "image/png": "[encoded data removed]",
      "text/plain": [
       "<Figure size 360x252 with 1 Axes>"
      ]
     },
     "metadata": {
      "needs_background": "light"
     },
     "output_type": "display_data"
    }
   ],
   "source": [
    "fig, ax = plt.subplots(figsize=(5,3.5))\n",
    "[ax.hist(yearset.at_event, color='blue', alpha=0.1) for yearset in impacts_yearsets['TWN']['RF']]\n",
    "ax.hist(impact_rf_hist_year.at_event, color='red', alpha=1)\n",
    "ax.set_xlabel('Yearly Impact [$]')\n",
    "ax.set_ylabel('Frequency')\n",
    "\n",
    "\n",
    "fig, ax = plt.subplots(figsize=(5,3.5))\n",
    "[ax.hist(yearset.at_event, color='blue', alpha=0.1) for yearset in impacts_yearsets['TWN']['TC']]\n",
    "ax.hist(impact_tc_hist_year.at_event, color='red')\n",
    "ax.set_xlabel('Yearly Impact [$]')\n",
    "ax.set_ylabel('Frequency')\n",
    "\n",
    "\n"
   ]
  },
  {
   "cell_type": "code",
   "execution_count": 329,
   "id": "4039173c",
   "metadata": {
    "scrolled": false
   },
   "outputs": [
    {
     "data": {
      "text/plain": [
       "<AxesSubplot:ylabel='Count'>"
      ]
     },
     "execution_count": 329,
     "metadata": {},
     "output_type": "execute_result"
    },
    {
     "data": {
      "image/png": "[encoded data removed]",
      "text/plain": [
       "<Figure size 432x288 with 1 Axes>"
      ]
     },
     "metadata": {
      "needs_background": "light"
     },
     "output_type": "display_data"
    }
   ],
   "source": [
    "import seaborn as sns\n",
    "fig, ax = plt.subplots()\n",
    "[sns.histplot(yearset.at_event,color=\"dodgerblue\", alpha=0.1,ax=ax) for yearset in impacts_yearsets['USA']['TC']]\n",
    "\n",
    "sns.histplot(impact_tc_hist_year.at_event, ax=ax, color=\"deeppink\", alpha=1)"
   ]
  },
  {
   "cell_type": "code",
   "execution_count": 411,
   "id": "c9f4dfb9",
   "metadata": {},
   "outputs": [
    {
     "data": {
      "text/plain": [
       "<matplotlib.legend.Legend at 0x7fb6b25db190>"
      ]
     },
     "execution_count": 411,
     "metadata": {},
     "output_type": "execute_result"
    },
    {
     "data": {
      "image/png": "[encoded data removed]",
      "text/plain": [
       "<Figure size 360x252 with 1 Axes>"
      ]
     },
     "metadata": {
      "needs_background": "light"
     },
     "output_type": "display_data"
    },
    {
     "data": {
      "image/png": "[encoded data removed]",
      "text/plain": [
       "<Figure size 360x252 with 1 Axes>"
      ]
     },
     "metadata": {
      "needs_background": "light"
     },
     "output_type": "display_data"
    }
   ],
   "source": [
    "fig, ax = plt.subplots(figsize=(5,3.5))\n",
    "\n",
    "all_events_rf = np.concatenate([yearset.at_event for yearset in impacts_yearsets['TWN']['RF']])\n",
    "sns.ecdfplot(x = impact_rf_hist_year.at_event,ax=ax, label='RF historical',color=\"red\")\n",
    "sns.ecdfplot(x = all_events_rf, ax=ax, label='RF synthetic', color=\"dodgerblue\")\n",
    "ax.legend()\n",
    "\n",
    "\n",
    "\n",
    "fig, ax = plt.subplots(figsize=(5,3.5))\n",
    "\n",
    "all_events_tc = np.concatenate([yearset.at_event for yearset in impacts_yearsets['TWN']['TC']])\n",
    "sns.ecdfplot(x = impact_tc_hist_year.at_event,ax=ax, label='TC Historical', color=\"red\")\n",
    "sns.ecdfplot(x = all_events_tc, ax=ax, label='TC synthetic', color=\"dodgerblue\")\n",
    "ax.legend()\n",
    "\n",
    "\n"
   ]
  },
  {
   "cell_type": "code",
   "execution_count": 368,
   "id": "c37724f5",
   "metadata": {},
   "outputs": [
    {
     "data": {
      "text/plain": [
       "array([], dtype=int64)"
      ]
     },
     "execution_count": 368,
     "metadata": {},
     "output_type": "execute_result"
    }
   ],
   "source": [
    "impact_rf_hist_year.date"
   ]
  },
  {
   "cell_type": "code",
   "execution_count": 404,
   "id": "129f1383",
   "metadata": {},
   "outputs": [],
   "source": [
    "import scipy\n",
    "kstest_tc = scipy.stats.kstest(impact_tc_hist_year.at_event, all_events_tc)\n",
    "kstest_rf = scipy.stats.kstest(impact_tc_hist_year.at_event, all_events_rf)"
   ]
  },
  {
   "cell_type": "code",
   "execution_count": 405,
   "id": "0d9a6267",
   "metadata": {},
   "outputs": [
    {
     "data": {
      "text/plain": [
       "KstestResult(statistic=0.2294736842105263, pvalue=0.21349560957623503)"
      ]
     },
     "execution_count": 405,
     "metadata": {},
     "output_type": "execute_result"
    }
   ],
   "source": [
    "kstest_tc"
   ]
  },
  {
   "cell_type": "code",
   "execution_count": 406,
   "id": "0d6be7bd",
   "metadata": {},
   "outputs": [
    {
     "data": {
      "text/plain": [
       "KstestResult(statistic=0.21052631578947367, pvalue=0.301270901498071)"
      ]
     },
     "execution_count": 406,
     "metadata": {},
     "output_type": "execute_result"
    }
   ],
   "source": [
    "kstest"
   ]
  },
  {
   "cell_type": "code",
   "execution_count": 389,
   "id": "1751ef55",
   "metadata": {
    "scrolled": true
   },
   "outputs": [
    {
     "data": {
      "text/plain": [
       "41"
      ]
     },
     "execution_count": 389,
     "metadata": {},
     "output_type": "execute_result"
    }
   ],
   "source": [
    "len(impact_tc_hist_year.at_event)"
   ]
  },
  {
   "cell_type": "code",
   "execution_count": 448,
   "id": "e42252be",
   "metadata": {},
   "outputs": [
    {
     "data": {
      "text/plain": [
       "413848802.8486641"
      ]
     },
     "execution_count": 448,
     "metadata": {},
     "output_type": "execute_result"
    }
   ],
   "source": [
    "combined_yearsets[0].aai_agg"
   ]
  },
  {
   "cell_type": "code",
   "execution_count": 447,
   "id": "c122c1aa",
   "metadata": {},
   "outputs": [
    {
     "data": {
      "text/plain": [
       "413848802.8486641"
      ]
     },
     "execution_count": 447,
     "metadata": {},
     "output_type": "execute_result"
    }
   ],
   "source": [
    "impacts_yearsets['TWN']['TC'][0].aai_agg\n"
   ]
  },
  {
   "cell_type": "code",
   "execution_count": 425,
   "id": "7001d979",
   "metadata": {},
   "outputs": [
    {
     "data": {
      "text/plain": [
       "1090448439.886373"
      ]
     },
     "execution_count": 425,
     "metadata": {},
     "output_type": "execute_result"
    }
   ],
   "source": [
    "impact_tc_hist_year.aai_agg"
   ]
  },
  {
   "cell_type": "code",
   "execution_count": 426,
   "id": "9f98b3ed",
   "metadata": {},
   "outputs": [
    {
     "data": {
      "text/plain": [
       "1090448439.886373"
      ]
     },
     "execution_count": 426,
     "metadata": {},
     "output_type": "execute_result"
    }
   ],
   "source": [
    "combined_historical_impact.aai_agg"
   ]
  },
  {
   "cell_type": "code",
   "execution_count": 423,
   "id": "b1dd6143",
   "metadata": {},
   "outputs": [
    {
     "data": {
      "text/plain": [
       "3552754065.7454424"
      ]
     },
     "execution_count": 423,
     "metadata": {},
     "output_type": "execute_result"
    }
   ],
   "source": [
    "impacts_yearsets['TWN']['RF'][0].aai_agg"
   ]
  },
  {
   "cell_type": "code",
   "execution_count": 470,
   "id": "a07f3021",
   "metadata": {},
   "outputs": [],
   "source": [
    "combined_sorted = impact_tc_hist_year.at_event + impact_rf_hist_year.at_event\n",
    "combined_historical_impact = combine_impacts([impact_tc_hist_year,impact_rf_hist_year], exp=exposures_twn, years=np.arange(20))\n",
    "combined_yearsets = [combine_impacts([impacts_yearsets['TWN']['TC'][n],impacts_yearsets['TWN']['RF'][n]], exp=exposures_twn) for n in range(len(impacts_yearsets['TWN']['RF']))]\n",
    "\n"
   ]
  },
  {
   "cell_type": "code",
   "execution_count": 466,
   "id": "6e4b4bcb",
   "metadata": {},
   "outputs": [
    {
     "data": {
      "text/plain": [
       "array([2.12019351e+09, 2.14219674e+09, 2.22517403e+09, 2.62085861e+09,\n",
       "       2.93329678e+09, 3.29918205e+09, 3.38324303e+09, 3.63376936e+09,\n",
       "       3.74710640e+09, 3.78210168e+09, 3.89024226e+09, 4.35454041e+09,\n",
       "       4.55632837e+09, 4.67610142e+09, 5.09490894e+09, 5.72137735e+09,\n",
       "       7.67505312e+09, 8.39017279e+09, 9.94914025e+09, 1.28893137e+10])"
      ]
     },
     "execution_count": 466,
     "metadata": {},
     "output_type": "execute_result"
    }
   ],
   "source": [
    "combined_sorted"
   ]
  },
  {
   "cell_type": "code",
   "execution_count": 456,
   "id": "61c9b292",
   "metadata": {},
   "outputs": [
    {
     "data": {
      "text/plain": [
       "array([2.13228704e+09, 2.22334771e+09, 3.01506101e+09, 3.16538397e+09,\n",
       "       3.31696324e+09, 3.69151607e+09, 3.72912844e+09, 3.74483578e+09,\n",
       "       3.75208787e+09, 4.01991762e+09, 4.48173806e+09, 4.63708823e+09,\n",
       "       4.79064171e+09, 5.19857198e+09, 5.39017557e+09, 5.45807203e+09,\n",
       "       7.46821646e+09, 7.86267424e+09, 9.38117991e+09, 9.62541389e+09])"
      ]
     },
     "execution_count": 456,
     "metadata": {},
     "output_type": "execute_result"
    }
   ],
   "source": [
    "np.sort(combined_historical_impact.at_event)"
   ]
  },
  {
   "cell_type": "code",
   "execution_count": 488,
   "id": "c062a772",
   "metadata": {
    "scrolled": false
   },
   "outputs": [
    {
     "data": {
      "text/plain": [
       "<matplotlib.legend.Legend at 0x7fb7be014be0>"
      ]
     },
     "execution_count": 488,
     "metadata": {},
     "output_type": "execute_result"
    },
    {
     "data": {
      "image/png": "[encoded data removed]",
      "text/plain": [
       "<Figure size 360x252 with 1 Axes>"
      ]
     },
     "metadata": {
      "needs_background": "light"
     },
     "output_type": "display_data"
    }
   ],
   "source": [
    "fig, ax = plt.subplots(figsize=(5,3.5))\n",
    "\n",
    "all_events = np.concatenate([yearset.at_event for yearset in combined_yearsets])\n",
    "sns.ecdfplot(x = combined_historical_impact.at_event,ax=ax, label ='combined historical', color=\"red\", alpha=0.5)\n",
    "sns.ecdfplot(x = combined_sorted , ax=ax, label ='combined historical, sorted', color=\"black\", alpha=0.5, linestyle='--')\n",
    "\n",
    "\n",
    "sns.ecdfplot(x = all_events, ax=ax, label ='combined probabilistic', color=\"dodgerblue\")\n",
    "ax.legend()\n",
    "\n"
   ]
  },
  {
   "cell_type": "code",
   "execution_count": 414,
   "id": "caa495ef",
   "metadata": {},
   "outputs": [
    {
     "data": {
      "text/plain": [
       "array([1.00916806e+09, 1.88809577e+09, 8.86213658e+06, ...,\n",
       "       1.26794779e+09, 7.66911688e+07, 2.69876472e+09])"
      ]
     },
     "execution_count": 414,
     "metadata": {},
     "output_type": "execute_result"
    }
   ],
   "source": [
    "all_events_tc"
   ]
  },
  {
   "cell_type": "code",
   "execution_count": 453,
   "id": "d25e7ebc",
   "metadata": {},
   "outputs": [
    {
     "data": {
      "text/plain": [
       "Text(0, 0.5, 'Frequency')"
      ]
     },
     "execution_count": 453,
     "metadata": {},
     "output_type": "execute_result"
    },
    {
     "data": {
      "image/png": "[encoded data removed]",
      "text/plain": [
       "<Figure size 360x252 with 1 Axes>"
      ]
     },
     "metadata": {
      "needs_background": "light"
     },
     "output_type": "display_data"
    }
   ],
   "source": [
    "fig, ax = plt.subplots(figsize=(5,3.5))\n",
    "[ax.hist(yearset.at_event, color='blue', alpha=0.1) for yearset in combined_yearsets]\n",
    "ax.hist(combined_historical_impact.at_event, color='red')\n",
    "ax.set_xlabel('Yearly Impact [$]')\n",
    "ax.set_ylabel('Frequency')\n",
    "\n"
   ]
  },
  {
   "cell_type": "code",
   "execution_count": 486,
   "id": "609d6ae9",
   "metadata": {},
   "outputs": [
    {
     "data": {
      "text/plain": [
       "KstestResult(statistic=0.27631578947368424, pvalue=0.07965857343087035)"
      ]
     },
     "execution_count": 486,
     "metadata": {},
     "output_type": "execute_result"
    }
   ],
   "source": [
    "scipy.stats.ks_2samp(combined_historical_impact.at_event, all_events_rf)"
   ]
  },
  {
   "cell_type": "code",
   "execution_count": 287,
   "id": "d3c66624",
   "metadata": {},
   "outputs": [],
   "source": [
    "exp_mat = exposures_usa.gdf.value.to_numpy()"
   ]
  },
  {
   "cell_type": "code",
   "execution_count": 288,
   "id": "a640f152",
   "metadata": {},
   "outputs": [],
   "source": [
    "exp_mat[exp_mat==0]=1\n",
    "imp_mat_tc_hist_years = impact_tc_hist_year.imp_mat/exp_mat\n",
    "imp_mat_rf_hist_years = impact_rf_hist_year.imp_mat/exp_mat\n"
   ]
  },
  {
   "cell_type": "code",
   "execution_count": 289,
   "id": "7232384e",
   "metadata": {},
   "outputs": [],
   "source": [
    "imp_mat_tc_hist_years = np.array(imp_mat_tc_hist_years.flatten())\n",
    "imp_mat_rf_hist_years = np.array(imp_mat_rf_hist_years.flatten())"
   ]
  },
  {
   "cell_type": "code",
   "execution_count": 290,
   "id": "ac887fd6",
   "metadata": {},
   "outputs": [],
   "source": [
    "both_hazard = np.logical_and((imp_mat_tc_hist_years>0), (imp_mat_rf_hist_years>0))"
   ]
  },
  {
   "cell_type": "code",
   "execution_count": 291,
   "id": "fcee597d",
   "metadata": {},
   "outputs": [
    {
     "data": {
      "text/plain": [
       "(1, 12861980)"
      ]
     },
     "execution_count": 291,
     "metadata": {},
     "output_type": "execute_result"
    }
   ],
   "source": [
    "imp_mat_tc_hist_years.shape"
   ]
  },
  {
   "cell_type": "code",
   "execution_count": 292,
   "id": "ee0992ef",
   "metadata": {},
   "outputs": [],
   "source": [
    "imp_mat_tc_hist_years_both = imp_mat_tc_hist_years[both_hazard]\n",
    "imp_mat_rf_hist_years_both = imp_mat_rf_hist_years[both_hazard]\n",
    "\n"
   ]
  },
  {
   "cell_type": "code",
   "execution_count": 293,
   "id": "174c014c",
   "metadata": {
    "scrolled": true
   },
   "outputs": [
    {
     "data": {
      "text/plain": [
       "<matplotlib.collections.PathCollection at 0x7fb824a73d60>"
      ]
     },
     "execution_count": 293,
     "metadata": {},
     "output_type": "execute_result"
    },
    {
     "data": {
      "image/png": "[encoded data removed]",
      "text/plain": [
       "<Figure size 432x288 with 1 Axes>"
      ]
     },
     "metadata": {
      "needs_background": "light"
     },
     "output_type": "display_data"
    }
   ],
   "source": [
    "plt.scatter(np.array(imp_mat_tc_hist_years_both.flatten()), np.array(imp_mat_rf_hist_years_both.flatten()))"
   ]
  },
  {
   "cell_type": "code",
   "execution_count": null,
   "id": "6761e51d",
   "metadata": {},
   "outputs": [],
   "source": [
    "plt.scatter(impact_rf_hist_year.eai_exp, impact_tc_hist_year.eai_exp)"
   ]
  },
  {
   "cell_type": "code",
   "execution_count": null,
   "id": "111e708c",
   "metadata": {},
   "outputs": [],
   "source": [
    "both_hazard = np.logical_and(impact_rf_hist_year.eai_exp>0, impact_tc_hist_year.eai_exp>0)"
   ]
  },
  {
   "cell_type": "code",
   "execution_count": null,
   "id": "c843812c",
   "metadata": {},
   "outputs": [],
   "source": [
    "np.sum(both_hazard)"
   ]
  },
  {
   "cell_type": "code",
   "execution_count": null,
   "id": "8c0f5984",
   "metadata": {},
   "outputs": [],
   "source": [
    "impact_rf_hist_year.imp_mat = impact_rf_hist_year.imp_mat/exp_mat\n",
    "impact_tc_hist_year.imp_mat = impact_tc_hist_year.imp_mat/exp_mat\n",
    "\n",
    "\n",
    "for n in range(22):\n",
    "    fig,ax = plt.subplots()\n",
    "    ax.scatter(range(20),np.array((impact_rf_hist_year.imp_mat[:,both_hazard][:,n]).flatten())[0])\n",
    "    ax.scatter(range(20),np.array((impact_tc_hist_year.imp_mat[:,both_hazard][:,n]).flatten())[0])"
   ]
  },
  {
   "cell_type": "code",
   "execution_count": null,
   "id": "3d244b59",
   "metadata": {
    "scrolled": false
   },
   "outputs": [],
   "source": [
    "np.correlate(np.array(impact_tc_hist_year.imp_mat.flatten())[0],np.array(impact_tc_hist_year.imp_mat.flatten())[0])"
   ]
  },
  {
   "cell_type": "code",
   "execution_count": null,
   "id": "0e57604b",
   "metadata": {},
   "outputs": [],
   "source": [
    "np.array(impact_tc_hist_year.imp_mat[:,both_hazard].flatten())[0]"
   ]
  },
  {
   "cell_type": "code",
   "execution_count": null,
   "id": "2e4f3070",
   "metadata": {},
   "outputs": [],
   "source": [
    "np.correlate(np.array(impact_tc_hist_year.imp_mat.flatten())[0],np.array(impact_rf_hist_year.imp_mat.flatten())[0])"
   ]
  }
 ],
 "metadata": {
  "kernelspec": {
   "display_name": "Python 3 (ipykernel)",
   "language": "python",
   "name": "python3"
  },
  "language_info": {
   "codemirror_mode": {
    "name": "ipython",
    "version": 3
   },
   "file_extension": ".py",
   "mimetype": "text/x-python",
   "name": "python",
   "nbconvert_exporter": "python",
   "pygments_lexer": "ipython3",
   "version": "3.8.13"
  }
 },
 "nbformat": 4,
 "nbformat_minor": 5
}
